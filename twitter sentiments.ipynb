{
 "cells": [
  {
   "cell_type": "markdown",
   "metadata": {},
   "source": [
    "# loading the dataset"
   ]
  },
  {
   "cell_type": "code",
   "execution_count": 2,
   "metadata": {},
   "outputs": [],
   "source": [
    "import pandas as pd"
   ]
  },
  {
   "cell_type": "code",
   "execution_count": 3,
   "metadata": {},
   "outputs": [],
   "source": [
    "def remove_airline_nameTag_and_links(tweets):\n",
    "    cleaned_tweets = []\n",
    "    for tweet in tweets:\n",
    "        tweet_words = tweet.split()\n",
    "        \n",
    "        for word in tweet_words:\n",
    "            if(word.startswith('@')):\n",
    "                tweet_words.remove(word)\n",
    "            if(word.startswith('http')):\n",
    "                tweet_words.remove(word)\n",
    "                \n",
    "        tweet_sent = ' '.join(word for word in tweet_words)\n",
    "        cleaned_tweets.append(tweet_sent)\n",
    "    \n",
    "    return cleaned_tweets        "
   ]
  },
  {
   "cell_type": "code",
   "execution_count": 4,
   "metadata": {},
   "outputs": [],
   "source": [
    "import emoji\n",
    "def remove_emoji(tweets):\n",
    "    cleaned_tweet = []\n",
    "    \n",
    "    for tweet in tweets:\n",
    "        tweet_sent = \"\".join(char for char in tweet if((char not in emoji.UNICODE_EMOJI) and (char < '0' or char > '9')))\n",
    "        cleaned_tweet.append(tweet_sent)\n",
    "    \n",
    "    return cleaned_tweet"
   ]
  },
  {
   "cell_type": "code",
   "execution_count": 5,
   "metadata": {},
   "outputs": [],
   "source": [
    "import numpy as np\n",
    "df1 = pd.read_excel('emoji_sentiment_data.xlsx')\n",
    "emoji_sentiment = {}\n",
    "index = 0\n",
    "for unicode in df1['Unicode codepoint']:\n",
    "    \n",
    "    sentiment = np.array([df1['Negative'].iloc[index],\n",
    "                              df1['Neutral'].iloc[index], \n",
    "                              df1['Positive'].iloc[index]])\n",
    "    max_senti_pos = sentiment.argmax()\n",
    "    if(max_senti_pos == 0):\n",
    "        emoji_sentiment[unicode] = 'sad'\n",
    "    elif(max_senti_pos == 1):\n",
    "        emoji_sentiment[unicode] = 'neutral'\n",
    "    elif(max_senti_pos == 2):\n",
    "        emoji_sentiment[unicode] = 'happy'\n",
    "    \n",
    "    index+=1"
   ]
  },
  {
   "cell_type": "code",
   "execution_count": 6,
   "metadata": {},
   "outputs": [],
   "source": [
    "import numpy as np\n",
    "def replace_emoji(tweets):\n",
    "    cleaned_tweet = []\n",
    "    replaced_sentiment = []\n",
    "    \n",
    "    for tweet in tweets:\n",
    "        tweet_sent = \" \".join(emoji_sentiment[hex(ord(char))] for char in tweet if(char in emoji.UNICODE_EMOJI and (hex(ord(char)) in emoji_sentiment)))\n",
    "        replaced_sentiment.append(tweet_sent)\n",
    "    \n",
    "    remove_emoji_tweets = remove_emoji(tweets)\n",
    "    \n",
    "    total_tweets = len(remove_emoji_tweets)\n",
    "    \n",
    "    for tweet_no in range(total_tweets):\n",
    "        cleaned_tweet.append(remove_emoji_tweets[tweet_no] + replaced_sentiment[tweet_no])\n",
    "    \n",
    "    \n",
    "    return cleaned_tweet"
   ]
  },
  {
   "cell_type": "code",
   "execution_count": null,
   "metadata": {},
   "outputs": [],
   "source": []
  },
  {
   "cell_type": "code",
   "execution_count": 7,
   "metadata": {},
   "outputs": [],
   "source": [
    "from nltk.tokenize import word_tokenize\n",
    "from nltk.corpus import stopwords\n",
    "import string\n",
    "from nltk import pos_tag\n",
    "from nltk.stem import WordNetLemmatizer\n",
    "from nltk.corpus import wordnet\n",
    "\n",
    "def simple_posTag(tag):\n",
    "    if(tag.startswith('J')):\n",
    "        return wordnet.ADJ\n",
    "    elif(tag.startswith('V')):\n",
    "        return wordnet.VERB\n",
    "    elif(tag.startswith('N')):\n",
    "        return wordnet.NOUN\n",
    "    elif(tag.startswith('R')):\n",
    "        return wordnet.ADV\n",
    "    else:\n",
    "        return wordnet.NOUN\n",
    "        \n",
    "\n",
    "def remove_stopwords_and_lemmatization_with_posTag(tweets):\n",
    "    stopWords = stopwords.words('english') + list(string.punctuation)\n",
    "\n",
    "    tweets_lemmatized = []\n",
    "    \n",
    "    for tweet in tweets:\n",
    "        tweet_words = word_tokenize(tweet.lower())\n",
    "\n",
    "        lemmatizer = WordNetLemmatizer()\n",
    "        lemmatize_tweet = [lemmatizer.lemmatize(word,pos=simple_posTag(pos_tag(word)[0][1])) for word in tweet_words if(word not in stopWords)]\n",
    "        tweets_lemmatized.append(\" \".join(lemmatize_tweet))\n",
    "    return tweets_lemmatized"
   ]
  },
  {
   "cell_type": "code",
   "execution_count": 8,
   "metadata": {},
   "outputs": [],
   "source": [
    "def building_dataset_with_emogi(tweets, count_vec):\n",
    "    tweets_without_nameTag_and_links = remove_airline_nameTag_and_links(tweets)\n",
    "\n",
    "    tweets_emoji_replace = replace_emoji(tweets_without_nameTag_and_links)\n",
    "    \n",
    "    lemmatized_tweets_with_emoji = remove_stopwords_and_lemmatization_with_posTag(tweets_emoji_replace)\n",
    "    \n",
    "    dataset = count_vec.fit_transform(lemmatized_tweets_with_emoji).todense()\n",
    "    \n",
    "    features = count_vec.get_feature_names()\n",
    "    \n",
    "    return features, dataset"
   ]
  },
  {
   "cell_type": "code",
   "execution_count": 9,
   "metadata": {},
   "outputs": [],
   "source": [
    "def building_dataset_without_emogi(tweets, count_vec):\n",
    "    tweets_without_nameTag_and_links = remove_airline_nameTag_and_links(tweets)\n",
    "\n",
    "    tweets_without_emoji = remove_emoji(tweets_without_nameTag_and_links)\n",
    "    \n",
    "    lemmatized_tweets_without_emoji = remove_stopwords_and_lemmatization_with_posTag(tweets_without_emoji)\n",
    "    \n",
    "    dataset = count_vec.fit_transform(lemmatized_tweets_without_emoji).todense()\n",
    "    \n",
    "    features = count_vec.get_feature_names()\n",
    "    \n",
    "    return features, dataset"
   ]
  },
  {
   "cell_type": "code",
   "execution_count": 10,
   "metadata": {},
   "outputs": [],
   "source": [
    "import pandas as pd\n",
    "df = pd.read_csv('training_twitter_x_y_train.csv')\n",
    "tweets = df['text']\n",
    "sentiments = df['airline_sentiment']\n"
   ]
  },
  {
   "cell_type": "code",
   "execution_count": 11,
   "metadata": {
    "scrolled": false
   },
   "outputs": [],
   "source": [
    "from sklearn.feature_extraction.text import CountVectorizer\n",
    "\n",
    "count_vec1 = CountVectorizer(max_features = 3000, ngram_range = (1,3))\n",
    "\n",
    "features_emoji, train_dataset_emoji = building_dataset_with_emogi(tweets, count_vec1)\n",
    "\n",
    "features_without_emoji, train_dataset_without_emoji = building_dataset_without_emogi(tweets, count_vec1)"
   ]
  },
  {
   "cell_type": "code",
   "execution_count": 12,
   "metadata": {},
   "outputs": [
    {
     "data": {
      "text/plain": [
       "((10980, 3000), (10980, 3000))"
      ]
     },
     "execution_count": 12,
     "metadata": {},
     "output_type": "execute_result"
    }
   ],
   "source": [
    "train_dataset_emoji.shape, train_dataset_without_emoji.shape"
   ]
  },
  {
   "cell_type": "code",
   "execution_count": 13,
   "metadata": {},
   "outputs": [],
   "source": [
    "from sklearn.model_selection import train_test_split\n",
    "\n",
    "x_train_emoji, x_test_emoji, y_train_emoji, y_test_emoji = train_test_split(train_dataset_emoji, sentiments, random_state = 1234)\n",
    "\n",
    "x_train_without_emoji, x_test_without_emoji, y_train_without_emoji, y_test_without_emoji = train_test_split(train_dataset_without_emoji, sentiments, random_state = 1234)"
   ]
  },
  {
   "cell_type": "code",
   "execution_count": null,
   "metadata": {},
   "outputs": [],
   "source": []
  },
  {
   "cell_type": "code",
   "execution_count": null,
   "metadata": {},
   "outputs": [],
   "source": []
  },
  {
   "cell_type": "code",
   "execution_count": 14,
   "metadata": {},
   "outputs": [],
   "source": [
    "def get_n_components(data):\n",
    "    pca = PCA()\n",
    "\n",
    "    data_transform = pca.fit_transform(data)\n",
    "    \n",
    "    n_components = 0\n",
    "    total_variance = sum(pca.explained_variance_)\n",
    "    current_variance = 0\n",
    "    while(current_variance/total_variance <= 0.99):\n",
    "        current_variance += pca.explained_variance_[n_components]\n",
    "        n_components += 1\n",
    "    \n",
    "    \n",
    "    return n_components"
   ]
  },
  {
   "cell_type": "code",
   "execution_count": null,
   "metadata": {},
   "outputs": [],
   "source": []
  },
  {
   "cell_type": "code",
   "execution_count": null,
   "metadata": {},
   "outputs": [],
   "source": []
  },
  {
   "cell_type": "code",
   "execution_count": 15,
   "metadata": {},
   "outputs": [],
   "source": [
    "from sklearn.decomposition import PCA\n",
    "\n",
    "pca_emoji = PCA(n_components = get_n_components(x_train_emoji), whiten = True)\n",
    "\n",
    "x_train_emoji_pca = pca_emoji.fit_transform(x_train_emoji)\n",
    "\n",
    "x_test_emoji_pca = pca_emoji.transform(x_test_emoji)"
   ]
  },
  {
   "cell_type": "code",
   "execution_count": 18,
   "metadata": {},
   "outputs": [
    {
     "data": {
      "text/plain": [
       "0.9162112932604736"
      ]
     },
     "execution_count": 18,
     "metadata": {},
     "output_type": "execute_result"
    }
   ],
   "source": [
    "from sklearn.svm import SVC\n",
    "#from sklearn.model_selection import GridSearchCV\n",
    "\n",
    "svm_clf = SVC()\n",
    "#grid = {\"C\" : [10**i for i in range(4)], \"gamma\" : [10**i for i in range(-2,3)]}\n",
    "#best_svc = GridSearchCV(svm_clf, grid)\n",
    "#best_svc.fit(x_train_emoji,sentiments)\n",
    "#best_svc.best_estimator_\n",
    "svm_clf.fit(x_train_emoji_pca, y_train_emoji)\n",
    "svm_clf.score(x_train_emoji_pca, y_train_emoji)"
   ]
  },
  {
   "cell_type": "code",
   "execution_count": 20,
   "metadata": {},
   "outputs": [
    {
     "data": {
      "text/plain": [
       "0.7114754098360656"
      ]
     },
     "execution_count": 20,
     "metadata": {},
     "output_type": "execute_result"
    }
   ],
   "source": [
    "svm_clf.score(x_test_emoji_pca, y_test_emoji)"
   ]
  },
  {
   "cell_type": "code",
   "execution_count": null,
   "metadata": {},
   "outputs": [],
   "source": []
  },
  {
   "cell_type": "code",
   "execution_count": null,
   "metadata": {},
   "outputs": [],
   "source": []
  },
  {
   "cell_type": "code",
   "execution_count": 16,
   "metadata": {},
   "outputs": [],
   "source": [
    "from sklearn.decomposition import PCA\n",
    "\n",
    "pca_without_emoji = PCA(n_components = get_n_components(x_train_without_emoji), whiten = True)\n",
    "\n",
    "x_train_without_emoji_pca = pca_without_emoji.fit_transform(x_train_without_emoji)\n",
    "\n",
    "x_test_without_emoji_pca = pca_without_emoji.transform(x_test_without_emoji)"
   ]
  },
  {
   "cell_type": "code",
   "execution_count": 21,
   "metadata": {},
   "outputs": [
    {
     "data": {
      "text/plain": [
       "0.9164541590771099"
      ]
     },
     "execution_count": 21,
     "metadata": {},
     "output_type": "execute_result"
    }
   ],
   "source": [
    "svm_clf1 = SVC()\n",
    "#grid = {\"C\" : [10**i for i in range(4)], \"gamma\" : [10**i for i in range(-2,3)]}\n",
    "#best_svc = GridSearchCV(svm_clf, grid)\n",
    "#best_svc.fit(x_train_emoji,sentiments)\n",
    "#best_svc.best_estimator_\n",
    "svm_clf1.fit(x_train_without_emoji_pca, y_train_without_emoji)\n",
    "svm_clf1.score(x_train_without_emoji_pca, y_train_without_emoji)"
   ]
  },
  {
   "cell_type": "code",
   "execution_count": null,
   "metadata": {},
   "outputs": [],
   "source": [
    "svm_clf1.score(x_test_without_emoji_pca, y_test_without_emoji)"
   ]
  },
  {
   "cell_type": "code",
   "execution_count": null,
   "metadata": {},
   "outputs": [],
   "source": []
  },
  {
   "cell_type": "code",
   "execution_count": null,
   "metadata": {},
   "outputs": [],
   "source": []
  },
  {
   "cell_type": "code",
   "execution_count": null,
   "metadata": {},
   "outputs": [],
   "source": []
  },
  {
   "cell_type": "code",
   "execution_count": null,
   "metadata": {},
   "outputs": [],
   "source": []
  }
 ],
 "metadata": {
  "kernelspec": {
   "display_name": "Python 3",
   "language": "python",
   "name": "python3"
  },
  "language_info": {
   "codemirror_mode": {
    "name": "ipython",
    "version": 3
   },
   "file_extension": ".py",
   "mimetype": "text/x-python",
   "name": "python",
   "nbconvert_exporter": "python",
   "pygments_lexer": "ipython3",
   "version": "3.7.3"
  }
 },
 "nbformat": 4,
 "nbformat_minor": 4
}
